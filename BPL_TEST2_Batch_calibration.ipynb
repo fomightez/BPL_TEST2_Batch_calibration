{
 "cells": [
  {
   "cell_type": "markdown",
   "metadata": {},
   "source": [
    "# BPL_TEST2_Batch_calibration - demo\n",
    "\n",
    "This notebook shows the possibilities for calibration of the model BPL_TEST2_Batch using scipy.optimize.minimize() routine. There are several different methods to choose between.\n",
    "\n",
    "The text-book model of batch cultivation we simulate is the following where $S$ is substrate, $X$ is cell concentration, and $V$ is volume of the broth\n",
    "\n",
    "$$\n",
    "\\eqalign{\n",
    "{d(VS) \\over dt} =& -q_S(S) \\cdot VX \\cr \n",
    "{d(VX) \\over dt} =& \\mu(S) \\cdot VX }\n",
    "$$\n",
    "\n",
    "and where specific cell growth rate $\\mu$ and substrate uptake rate $q_S$ are\n",
    "\n",
    "$$\n",
    "\\mu(S) = Y \\cdot q_S(S)\n",
    "$$\n",
    "\n",
    "$$\n",
    "q_S(S) = q_S^{max} {S \\over K_s + S}\n",
    "$$\n",
    "\n",
    "where $Y$ is the yield, $q_S^{max}$ is the maximal specific substrate uptake rate and $K_s$ is the corresponding saturation constant.\n",
    "\n",
    "The parameter estimation is done with optimization methods that only require evaluation of the missmatch between simulation with given parameters and data. At start the allowed range for each parameter is given. The method used for optimization is SLQSP but can easily be changed [1].\n",
    "\n",
    "In the near future the FMU may provide first derivative gradient informaion, that will make it possible to choose corresponding method of minimize() for improved performance. This possibility is related to the upgrade to the FMI-standard ver 3.0 for the Modelica compiler.  \n",
    "\n",
    "The Python package PyFMI [2] that is the base for FMU-explore has a simplified built-in\n",
    "functionality for parameter estimation that also use scipy.optimize.minimize(). However, there is estimated and the purpose seems to only address smaller examples. Therefore we here define a no possibility to include parameter changes to the compiled model that should not be\n",
    "Python function evaluation() that facilitate the formulation of the parameter estimation and\n",
    "bring flexibility to choice of optimization method."
   ]
  },
  {
   "cell_type": "code",
   "execution_count": 1,
   "metadata": {},
   "outputs": [
    {
     "name": "stdout",
     "output_type": "stream",
     "text": [
      "Linux - run FMU pre-comiled JModelica 2.4\n",
      "\n",
      "Model for bioreactor has been setup. Key commands:\n",
      " - par()       - change of parameters and initial values\n",
      " - init()      - change initial values only\n",
      " - simu()      - simulate and plot\n",
      " - newplot()   - make a new plot\n",
      " - show()      - show plot from previous simulation\n",
      " - disp()      - display parameters and initial values from the last simulation\n",
      " - describe()  - describe culture, broth, parameters, variables with values / units\n",
      "\n",
      "Note that both disp() and describe() takes values from the last simulation\n",
      "\n",
      "Brief information about a command by help(), eg help(simu)\n",
      "Key system information is listed with the command system_info()\n"
     ]
    }
   ],
   "source": [
    "run -i BPL_TEST2_Batch_explore.py"
   ]
  },
  {
   "cell_type": "code",
   "execution_count": 2,
   "metadata": {},
   "outputs": [],
   "source": [
    "# Adjust the size of diagrams\n",
    "plt.rcParams['figure.figsize'] = [15/2.54, 12/2.54]"
   ]
  },
  {
   "cell_type": "markdown",
   "metadata": {},
   "source": [
    "## Generate data later used for parameter estimation"
   ]
  },
  {
   "cell_type": "code",
   "execution_count": 3,
   "metadata": {},
   "outputs": [],
   "source": [
    "import pandas as pd"
   ]
  },
  {
   "cell_type": "code",
   "execution_count": 4,
   "metadata": {},
   "outputs": [
    {
     "data": {
      "image/png": "[encoded data removed]",
      "text/plain": [
       "<Figure size 425.197x340.157 with 2 Axes>"
      ]
     },
     "metadata": {
      "needs_background": "light"
     },
     "output_type": "display_data"
    }
   ],
   "source": [
    "# Data generated\n",
    "culture_time = 6.0\n",
    "par(Y=0.50, qSmax=1.0, Ks=0.1)\n",
    "init(V_0=1.0, VS_0=10, VX_0=1.0)\n",
    "newplot(plotType='Demo_2')\n",
    "opts['ncp'] = 12\n",
    "simu(culture_time)"
   ]
  },
  {
   "cell_type": "code",
   "execution_count": 5,
   "metadata": {},
   "outputs": [
    {
     "data": {
      "text/html": [
       "<div>\n",
       "<style scoped>\n",
       "    .dataframe tbody tr th:only-of-type {\n",
       "        vertical-align: middle;\n",
       "    }\n",
       "\n",
       "    .dataframe tbody tr th {\n",
       "        vertical-align: top;\n",
       "    }\n",
       "\n",
       "    .dataframe thead th {\n",
       "        text-align: right;\n",
       "    }\n",
       "</style>\n",
       "<table border=\"1\" class=\"dataframe\">\n",
       "  <thead>\n",
       "    <tr style=\"text-align: right;\">\n",
       "      <th></th>\n",
       "      <th>time</th>\n",
       "      <th>X</th>\n",
       "      <th>S</th>\n",
       "    </tr>\n",
       "  </thead>\n",
       "  <tbody>\n",
       "    <tr>\n",
       "      <th>0</th>\n",
       "      <td>0.0</td>\n",
       "      <td>1.000000</td>\n",
       "      <td>1.000000e+01</td>\n",
       "    </tr>\n",
       "    <tr>\n",
       "      <th>1</th>\n",
       "      <td>0.5</td>\n",
       "      <td>1.280773</td>\n",
       "      <td>9.438453e+00</td>\n",
       "    </tr>\n",
       "    <tr>\n",
       "      <th>2</th>\n",
       "      <td>1.0</td>\n",
       "      <td>1.640079</td>\n",
       "      <td>8.719842e+00</td>\n",
       "    </tr>\n",
       "    <tr>\n",
       "      <th>3</th>\n",
       "      <td>1.5</td>\n",
       "      <td>2.099615</td>\n",
       "      <td>7.800770e+00</td>\n",
       "    </tr>\n",
       "    <tr>\n",
       "      <th>4</th>\n",
       "      <td>2.0</td>\n",
       "      <td>2.686770</td>\n",
       "      <td>6.626459e+00</td>\n",
       "    </tr>\n",
       "    <tr>\n",
       "      <th>5</th>\n",
       "      <td>2.5</td>\n",
       "      <td>3.435479</td>\n",
       "      <td>5.129043e+00</td>\n",
       "    </tr>\n",
       "    <tr>\n",
       "      <th>6</th>\n",
       "      <td>3.0</td>\n",
       "      <td>4.385325</td>\n",
       "      <td>3.229350e+00</td>\n",
       "    </tr>\n",
       "    <tr>\n",
       "      <th>7</th>\n",
       "      <td>3.5</td>\n",
       "      <td>5.559252</td>\n",
       "      <td>8.814967e-01</td>\n",
       "    </tr>\n",
       "    <tr>\n",
       "      <th>8</th>\n",
       "      <td>4.0</td>\n",
       "      <td>6.000000</td>\n",
       "      <td>1.048673e-08</td>\n",
       "    </tr>\n",
       "    <tr>\n",
       "      <th>9</th>\n",
       "      <td>4.5</td>\n",
       "      <td>6.000000</td>\n",
       "      <td>-6.547559e-11</td>\n",
       "    </tr>\n",
       "    <tr>\n",
       "      <th>10</th>\n",
       "      <td>5.0</td>\n",
       "      <td>6.000000</td>\n",
       "      <td>6.182144e-11</td>\n",
       "    </tr>\n",
       "    <tr>\n",
       "      <th>11</th>\n",
       "      <td>5.5</td>\n",
       "      <td>6.000000</td>\n",
       "      <td>-4.234324e-12</td>\n",
       "    </tr>\n",
       "    <tr>\n",
       "      <th>12</th>\n",
       "      <td>6.0</td>\n",
       "      <td>6.000000</td>\n",
       "      <td>-1.961610e-13</td>\n",
       "    </tr>\n",
       "  </tbody>\n",
       "</table>\n",
       "</div>"
      ],
      "text/plain": [
       "    time         X             S\n",
       "0    0.0  1.000000  1.000000e+01\n",
       "1    0.5  1.280773  9.438453e+00\n",
       "2    1.0  1.640079  8.719842e+00\n",
       "3    1.5  2.099615  7.800770e+00\n",
       "4    2.0  2.686770  6.626459e+00\n",
       "5    2.5  3.435479  5.129043e+00\n",
       "6    3.0  4.385325  3.229350e+00\n",
       "7    3.5  5.559252  8.814967e-01\n",
       "8    4.0  6.000000  1.048673e-08\n",
       "9    4.5  6.000000 -6.547559e-11\n",
       "10   5.0  6.000000  6.182144e-11\n",
       "11   5.5  6.000000 -4.234324e-12\n",
       "12   6.0  6.000000 -1.961610e-13"
      ]
     },
     "execution_count": 5,
     "metadata": {},
     "output_type": "execute_result"
    }
   ],
   "source": [
    "# Store data in a DataFrame for later use\n",
    "data = pd.DataFrame(data={'time':sim_res['time'], 'X':sim_res['bioreactor.c[1]'], 'S':sim_res['bioreactor.c[2]']})\n",
    "data"
   ]
  },
  {
   "cell_type": "code",
   "execution_count": 6,
   "metadata": {},
   "outputs": [],
   "source": [
    "data.to_excel('data_batch.xlsx')"
   ]
  },
  {
   "cell_type": "markdown",
   "metadata": {},
   "source": [
    "## Alternatively read data from your own excel-file"
   ]
  },
  {
   "cell_type": "markdown",
   "metadata": {},
   "source": [
    "Alternatively we can choose to use data from an excel-file - do you prefer that?"
   ]
  },
  {
   "cell_type": "code",
   "execution_count": 7,
   "metadata": {},
   "outputs": [
    {
     "data": {
      "text/html": [
       "<div>\n",
       "<style scoped>\n",
       "    .dataframe tbody tr th:only-of-type {\n",
       "        vertical-align: middle;\n",
       "    }\n",
       "\n",
       "    .dataframe tbody tr th {\n",
       "        vertical-align: top;\n",
       "    }\n",
       "\n",
       "    .dataframe thead th {\n",
       "        text-align: right;\n",
       "    }\n",
       "</style>\n",
       "<table border=\"1\" class=\"dataframe\">\n",
       "  <thead>\n",
       "    <tr style=\"text-align: right;\">\n",
       "      <th></th>\n",
       "      <th>time</th>\n",
       "      <th>X</th>\n",
       "      <th>S</th>\n",
       "    </tr>\n",
       "  </thead>\n",
       "  <tbody>\n",
       "    <tr>\n",
       "      <th>0</th>\n",
       "      <td>0.00</td>\n",
       "      <td>0.40</td>\n",
       "      <td>20.50</td>\n",
       "    </tr>\n",
       "    <tr>\n",
       "      <th>1</th>\n",
       "      <td>0.67</td>\n",
       "      <td>0.63</td>\n",
       "      <td>20.16</td>\n",
       "    </tr>\n",
       "    <tr>\n",
       "      <th>2</th>\n",
       "      <td>2.83</td>\n",
       "      <td>1.50</td>\n",
       "      <td>17.94</td>\n",
       "    </tr>\n",
       "    <tr>\n",
       "      <th>3</th>\n",
       "      <td>4.11</td>\n",
       "      <td>2.63</td>\n",
       "      <td>14.71</td>\n",
       "    </tr>\n",
       "    <tr>\n",
       "      <th>4</th>\n",
       "      <td>5.50</td>\n",
       "      <td>4.44</td>\n",
       "      <td>9.88</td>\n",
       "    </tr>\n",
       "    <tr>\n",
       "      <th>5</th>\n",
       "      <td>6.42</td>\n",
       "      <td>6.93</td>\n",
       "      <td>2.45</td>\n",
       "    </tr>\n",
       "    <tr>\n",
       "      <th>6</th>\n",
       "      <td>6.93</td>\n",
       "      <td>8.47</td>\n",
       "      <td>0.00</td>\n",
       "    </tr>\n",
       "    <tr>\n",
       "      <th>7</th>\n",
       "      <td>7.50</td>\n",
       "      <td>8.47</td>\n",
       "      <td>0.00</td>\n",
       "    </tr>\n",
       "    <tr>\n",
       "      <th>8</th>\n",
       "      <td>8.00</td>\n",
       "      <td>8.47</td>\n",
       "      <td>0.00</td>\n",
       "    </tr>\n",
       "  </tbody>\n",
       "</table>\n",
       "</div>"
      ],
      "text/plain": [
       "   time     X      S\n",
       "0  0.00  0.40  20.50\n",
       "1  0.67  0.63  20.16\n",
       "2  2.83  1.50  17.94\n",
       "3  4.11  2.63  14.71\n",
       "4  5.50  4.44   9.88\n",
       "5  6.42  6.93   2.45\n",
       "6  6.93  8.47   0.00\n",
       "7  7.50  8.47   0.00\n",
       "8  8.00  8.47   0.00"
      ]
     },
     "execution_count": 7,
     "metadata": {},
     "output_type": "execute_result"
    }
   ],
   "source": [
    "xlsx_file = pd.ExcelFile('data_batch_2.xlsx')\n",
    "table = xlsx_file.parse('Sheet1')\n",
    "table"
   ]
  },
  {
   "cell_type": "markdown",
   "metadata": {},
   "source": [
    "data = table"
   ]
  },
  {
   "cell_type": "code",
   "execution_count": 8,
   "metadata": {},
   "outputs": [
    {
     "name": "stdout",
     "output_type": "stream",
     "text": [
      "V_0 : 1.0\n",
      "VX_0 : 1.0\n",
      "VS_0 : 10.0\n"
     ]
    }
   ],
   "source": [
    "# The initial values you may need to change to fit your data - use the function init()\n",
    "disp('_0')"
   ]
  },
  {
   "cell_type": "markdown",
   "metadata": {},
   "source": [
    "# Change initial conditions for batch_data_2\n",
    "init(V_0=1.0, VX_0=0.40, VS_0=20.5)\n",
    "culture_time = 8.0"
   ]
  },
  {
   "cell_type": "markdown",
   "metadata": {},
   "source": [
    "Remember to adjust the parBounds below appropriate for your data"
   ]
  },
  {
   "cell_type": "markdown",
   "metadata": {},
   "source": [
    "## Simulation with initial guess of parameters compared with data\n",
    "\n",
    "Here we define the parameters that should be estimated and specify allowed ranges. \n",
    "Nominal parameters are chosen as the mid-point of the allowed parameter range. \n",
    "\n",
    "Simulation with these nominal parameter set and compare with data give an idea of who well the model fit data."
   ]
  },
  {
   "cell_type": "code",
   "execution_count": 9,
   "metadata": {},
   "outputs": [],
   "source": [
    "# Parameters to be estimated using parDict names and their bounds\n",
    "parEstim = ['Y', 'qSmax', 'Ks']\n",
    "parBounds = [(0.3, 0.7), (0.7, 1.3), (0.05, 0.20)]\n",
    "parEstim_0 = [np.mean(parBounds[k]) for k in range(len(parBounds))]"
   ]
  },
  {
   "cell_type": "code",
   "execution_count": 10,
   "metadata": {},
   "outputs": [
    {
     "data": {
      "image/png": "[encoded data removed]",
      "text/plain": [
       "<Figure size 425.197x340.157 with 2 Axes>"
      ]
     },
     "metadata": {
      "needs_background": "light"
     },
     "output_type": "display_data"
    }
   ],
   "source": [
    "# Simulation with nominal parameters\n",
    "newplot(plotType='Demo_1')\n",
    "par(Y=parEstim_0[0], qSmax=parEstim_0[1], Ks=parEstim_0[2])\n",
    "simu(culture_time)\n",
    "\n",
    "# Show data\n",
    "ax1.plot(data['time'], data['S'],'b*')\n",
    "ax2.plot(data['time'], data['X'],'r*')\n",
    "plt.show()"
   ]
  },
  {
   "cell_type": "code",
   "execution_count": 11,
   "metadata": {},
   "outputs": [
    {
     "data": {
      "image/png": "[encoded data removed]",
      "text/plain": [
       "<Figure size 425.197x340.157 with 2 Axes>"
      ]
     },
     "metadata": {
      "needs_background": "light"
     },
     "output_type": "display_data"
    }
   ],
   "source": [
    "# Simulation over the parameter ranges given\n",
    "newplot(plotType='Demo_1')\n",
    "for Y_value in parBounds [0]:\n",
    "    for qSmax_value in parBounds[1]:\n",
    "        for Ks_value in parBounds[2]:\n",
    "            par(Y=Y_value, qSmax=qSmax_value, Ks=Ks_value)\n",
    "            simu(culture_time)\n",
    "            \n",
    "# Show data\n",
    "ax1.plot(data['time'], data['S'],'b*')\n",
    "ax2.plot(data['time'], data['X'],'r*')\n",
    "plt.show()"
   ]
  },
  {
   "cell_type": "markdown",
   "metadata": {},
   "source": [
    "Simulation over the diferent parameter combinations of the parameter bounds shows that data is \"covered\" and it should be possible to find a parameter combination that describes the data well. "
   ]
  },
  {
   "cell_type": "markdown",
   "metadata": {},
   "source": [
    "## Parameter estimation\n",
    "\n",
    "Here we use the scipy.optimize.minimize() procedure which contain a family of different methods [1].\n",
    "Since we has chosen to work with bounds on the parameters to be estimated there are only three methods to choose between. Here the method Sequential Least SQuares Programming SLSQP is chosen.\n"
   ]
  },
  {
   "cell_type": "code",
   "execution_count": 12,
   "metadata": {},
   "outputs": [],
   "source": [
    "# For clarity of code here we import again\n",
    "import scipy.optimize"
   ]
  },
  {
   "cell_type": "code",
   "execution_count": 13,
   "metadata": {},
   "outputs": [],
   "source": [
    "# Parameters to be estimated using parDict names and their bounds\n",
    "extra_args = (parEstim, data, fmu_model , parDict, parLocation)"
   ]
  },
  {
   "cell_type": "code",
   "execution_count": 14,
   "metadata": {},
   "outputs": [],
   "source": [
    "# Modified evaluation function tailored for Python optimization algorithms\n",
    "def evaluation(x, parEstim, data=data, fmu_model=fmu_model, \n",
    "                parDict=parDict, parLocation=parLocation):\n",
    "    \"\"\"The parameter list is tailored for scipy optimization algorithms interface, \n",
    "       where the first parameter x is an array with parameters that are tuned \n",
    "       and evalauted.\"\"\"\n",
    "      \n",
    "    # Load model\n",
    "    global model\n",
    "    if model is None:\n",
    "        model = load_fmu(fmu_model)\n",
    "    model.reset()\n",
    "   \n",
    "    # Change parameters and initial values from default\n",
    "    for i, p in enumerate(parEstim): model.set(parLocation[p], x[i])\n",
    "    for p in set(parDict)-set(parEstim): model.set(parLocation[p], parDict[p])\n",
    "      \n",
    "    # Simulation options\n",
    "    opts = model.simulate_options()\n",
    "    opts['ncp'] = 12\n",
    "    opts['result_handling'] = 'memory'\n",
    "    opts['silent_mode'] = True\n",
    "   \n",
    "    # Simulate\n",
    "    sim_res = model.simulate(start_time=0.0, final_time=culture_time, options=opts)\n",
    "   \n",
    "    # Calculate loss function V\n",
    "    V={}\n",
    "    V['X'] = np.linalg.norm(data['X'] - np.interp(data['time'], sim_res['time'], sim_res['bioreactor.c[1]']))\n",
    "    V['S'] = np.linalg.norm(data['S'] - np.interp(data['time'], sim_res['time'], sim_res['bioreactor.c[2]']))\n",
    "  \n",
    "    return V['X'] + V['S']"
   ]
  },
  {
   "cell_type": "code",
   "execution_count": 15,
   "metadata": {},
   "outputs": [],
   "source": [
    "import time"
   ]
  },
  {
   "cell_type": "code",
   "execution_count": 16,
   "metadata": {},
   "outputs": [
    {
     "name": "stdout",
     "output_type": "stream",
     "text": [
      "Optimization terminated successfully    (Exit mode 0)\n",
      "            Current function value: 3.436178655884325e-05\n",
      "            Iterations: 16\n",
      "            Function evaluations: 101\n",
      "            Gradient evaluations: 16\n",
      "CPU-time = 0.2756948471069336\n"
     ]
    }
   ],
   "source": [
    "# Run minimize()\n",
    "start_time = time.time()\n",
    "result = scipy.optimize.minimize(evaluation, x0=parEstim_0, args=extra_args, \n",
    "                                 method='SLSQP', bounds=parBounds, options={\"disp\":True})\n",
    "print('CPU-time =', time.time()-start_time)"
   ]
  },
  {
   "cell_type": "code",
   "execution_count": 17,
   "metadata": {},
   "outputs": [
    {
     "data": {
      "text/plain": [
       "     fun: 3.436178655884325e-05\n",
       "     jac: array([  37.26864631, -439.63743317, -439.60416264])\n",
       " message: 'Optimization terminated successfully'\n",
       "    nfev: 101\n",
       "     nit: 16\n",
       "    njev: 16\n",
       "  status: 0\n",
       " success: True\n",
       "       x: array([0.50000102, 0.99999725, 0.09999004])"
      ]
     },
     "execution_count": 17,
     "metadata": {},
     "output_type": "execute_result"
    }
   ],
   "source": [
    "result"
   ]
  },
  {
   "cell_type": "markdown",
   "metadata": {},
   "source": [
    "The estimated parameters x are very close to the original values and no surprise.\n",
    "\n",
    "Test of the three methods available that handle parameter bounds: TNC, L-BFGS-B and SLSQP. It turns out that SLSQP is by far the fastest. It is 3 times faster than L-BFGS-B which is faster than TNC. Can be that SLSQP is less robust though. The nit (number of iterations does not differ that much though: 24 vs 30. The nfev (number of function evaluations) is perhaps more important 127 vs 256. A more precise timer function is likely timeit for this short times.\n",
    "\n",
    "The Nelder-Mead algorithm has a good reputation to be very robust, but more slow,  and with this method we cannot have bounds on the parameters."
   ]
  },
  {
   "cell_type": "markdown",
   "metadata": {},
   "source": [
    "## Simulation with estimated parameters compared with data"
   ]
  },
  {
   "cell_type": "code",
   "execution_count": 18,
   "metadata": {},
   "outputs": [
    {
     "data": {
      "image/png": "[encoded data removed]",
      "text/plain": [
       "<Figure size 425.197x340.157 with 2 Axes>"
      ]
     },
     "metadata": {
      "needs_background": "light"
     },
     "output_type": "display_data"
    }
   ],
   "source": [
    "newplot(plotType='Demo_1')\n",
    "par(Y=result.x[0], qSmax=result.x[1], Ks=result.x[2])\n",
    "simu(culture_time)\n",
    "\n",
    "# Show data\n",
    "ax1.plot(data['time'], data['S'],'b*')\n",
    "ax2.plot(data['time'], data['X'],'r*')\n",
    "plt.show()"
   ]
  },
  {
   "cell_type": "markdown",
   "metadata": {},
   "source": [
    "## Analysis of the loss function\n",
    "\n",
    "* Contour plot of simplified version V(Y, qSmax)\n",
    "* One or several minima?\n",
    "* Shape, elongated?\n",
    "* Ortogonality of chosen parameters, compare with V(Y, mu_max)"
   ]
  },
  {
   "cell_type": "code",
   "execution_count": 19,
   "metadata": {},
   "outputs": [
    {
     "data": {
      "image/png": "[encoded data removed]",
      "text/plain": [
       "<Figure size 425.197x340.157 with 2 Axes>"
      ]
     },
     "metadata": {
      "needs_background": "light"
     },
     "output_type": "display_data"
    }
   ],
   "source": [
    "# Sweep through Y and qSmax variation and store the value of the loss-function for each\n",
    "nY = 20\n",
    "nqSmax = 20\n",
    "V = np.zeros((nY, nqSmax))\n",
    "             \n",
    "Y = np.linspace(parBounds[0][0],parBounds[0][1],nY)\n",
    "qSmax = np.linspace(parBounds[1][0],parBounds[1][1],nqSmax)\n",
    "\n",
    "for j in range(nY):\n",
    "    for k in range(nqSmax):\n",
    "        V[j,k] = evaluation([Y[j], qSmax[k], 0.1], parEstim)\n",
    "\n",
    "# Contour plot\n",
    "plt.figure()\n",
    "plt.subplot(1,1,1)\n",
    "plt.contourf(Y, qSmax, V, 20, cmap='RdGy')\n",
    "plt.plot(result.x[0], result.x[1],'k+')\n",
    "plt.colorbar()\n",
    "plt.ylabel('qSmax')\n",
    "plt.xlabel('Y')\n",
    "plt.show()"
   ]
  },
  {
   "cell_type": "markdown",
   "metadata": {},
   "source": [
    "We see\n",
    "* Unique mimima\n",
    "* Narrow valley\n",
    "* Valley about - 45 degree\n",
    "\n",
    "Change variables to mu_max = Y*qSmax vs qSmax"
   ]
  },
  {
   "cell_type": "markdown",
   "metadata": {},
   "source": [
    "## Summary\n",
    "\n",
    "A choice was made to work with allowed ranges of parameters to be estimated and a start value was defined as the center point in this parameter space.\n",
    "\n",
    "An evaluation() function was created that define how the difference beween simulation and data is measured. The function is rather transparent and easy to modify and you may want to change weight on the loss in S and X for instance. Here they have equal weight. \n",
    "\n",
    "The FMU-explore workspace dictionaries partDict[] and parLocation[] are useful also here and simplify the code.\n",
    "\n",
    "The call optimize.minimize() has several parameters and can easily be modified, for instance change of method.\n",
    "\n",
    "The estimated parameters were close to perfect!"
   ]
  },
  {
   "cell_type": "markdown",
   "metadata": {},
   "source": [
    "## References\n",
    "\n",
    "[1] Scipy Reference guide on optimize.minimize()\n",
    "[here](https://docs.scipy.org/doc/scipy/reference/generated/scipy.optimize.minimize.html?highlight=minimize)\n",
    "\n",
    "[2] Andersson, C., Åkesson, J., Fuhrer C. : \"PyFMI: A Python package for simulation of coupled dynamic models with the functional mock-up interface\", Centre for Mathematical Sciences, Lund University, Report LUTFNA-5008, 2016. "
   ]
  },
  {
   "cell_type": "markdown",
   "metadata": {},
   "source": [
    "## Appendix"
   ]
  },
  {
   "cell_type": "code",
   "execution_count": 20,
   "metadata": {},
   "outputs": [
    {
     "name": "stdout",
     "output_type": "stream",
     "text": [
      "['bioreactor', 'bioreactor.culture', 'liquidphase', 'MSL']\n"
     ]
    }
   ],
   "source": [
    "describe('parts')"
   ]
  },
  {
   "cell_type": "code",
   "execution_count": 21,
   "metadata": {},
   "outputs": [
    {
     "name": "stdout",
     "output_type": "stream",
     "text": [
      "MSL: 3.2.2 build 3 - used components:  \n"
     ]
    }
   ],
   "source": [
    "describe('MSL')"
   ]
  },
  {
   "cell_type": "code",
   "execution_count": 22,
   "metadata": {},
   "outputs": [
    {
     "name": "stdout",
     "output_type": "stream",
     "text": [
      "\n",
      "System information\n",
      " -OS: Linux\n",
      " -Python: 3.8.2\n",
      " -PyFMI: 2.7.4\n",
      " -FMU by: JModelica.org\n",
      " -FMI: 2.0\n",
      " -Type: FMUModelCS2\n",
      " -Name: BPL_TEST2.Batch\n",
      " -Generated: 2022-09-19T14:20:20\n",
      " -MSL: 3.2.2 build 3\n",
      " -Description: Bioprocess Library version 2.1.0 beta\n",
      " -Interaction: FMU-explore ver 0.9.3\n"
     ]
    }
   ],
   "source": [
    "system_info()"
   ]
  },
  {
   "cell_type": "markdown",
   "metadata": {},
   "source": [
    "# BPL_TEST2_Batch_calibration\n",
    "Material of standard text book model of batch cultivation where the model is calibrated using time series data for substrate and cell concentration. It is possible to upload your own batch data and calibrate the model for your data!\n",
    "\n",
    "A bioprocess model need to be calibrated by estimating key process parameters. The model here has only three parameters $Y$, $qSmax$ and $Ks$, but the last parameter has little influence. The intial values $V_0$, $VX_0$ and $VS_0$ are given.\n",
    "\n",
    "We use here methods that only need evaluation of the loss function for each tested parameter setting, thus does not use derivative information. These methods are collected in Python Scipy-package in the function scipy.optimize.minimize() and it is easy to change method and adjust parameters of the algorithm. The advantage with these methods is that you can easilty address more complex models with har non-linearities and more parameters. The drawback is that optimization is more time consuming than methods that use derivative information. \n",
    "\n",
    "In Figure 1 below we see the results of fitting the model to simulated data and works perfectly well. Here parameters were given with min- and max-bounds. There are fewer methods that use bounds on parameters. Here we choose to work with SLSQP since it gave fasd and good convergence.\n",
    "\n",
    "![](Fig_1_Batch_simu_data.png)\n",
    "\n",
    "In Figure 2 we see the contour plot of the loss function, simplified by keeping the Ks-parameter value constant. Clearly there is a unique minima for the range of parameters considered. Further the contours has an ellipsoid-shape and narrow \n",
    "\n",
    "![](Fig_2_Batch_loss_function_contour.png)\n",
    "\n",
    "\n",
    "License information:\n",
    "* The binary-file with extension FMU is shared under the permissive MIT-license\n",
    "* The other files are shared under the GPL 3.0 license"
   ]
  },
  {
   "cell_type": "code",
   "execution_count": null,
   "metadata": {},
   "outputs": [],
   "source": []
  }
 ],
 "metadata": {
  "kernelspec": {
   "display_name": "Python 3",
   "language": "python",
   "name": "python3"
  },
  "language_info": {
   "codemirror_mode": {
    "name": "ipython",
    "version": 3
   },
   "file_extension": ".py",
   "mimetype": "text/x-python",
   "name": "python",
   "nbconvert_exporter": "python",
   "pygments_lexer": "ipython3",
   "version": "3.8.2"
  }
 },
 "nbformat": 4,
 "nbformat_minor": 5
}
