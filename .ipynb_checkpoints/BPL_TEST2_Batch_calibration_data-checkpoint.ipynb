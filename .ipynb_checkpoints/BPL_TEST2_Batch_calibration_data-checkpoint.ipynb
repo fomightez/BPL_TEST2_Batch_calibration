{
 "cells": [
  {
   "cell_type": "markdown",
   "id": "c49491cf",
   "metadata": {},
   "source": [
    "# BPL_TEST2_Batch_calibration - demo\n",
    "\n",
    "This notebook shows the possibilities for calibration of the model BPL_TEST2_Batch using scipy.optimize.minimize() routine. There are several different methods to choose between.\n",
    "\n",
    "The text-book model of batch cultivation we simulate is the following where $S$ is substrate, $X$ is cell concentration, and $V$ is volume of the broth\n",
    "\n",
    "$$\n",
    "\\eqalign{\n",
    "{d(VS) \\over dt} =& -q_S(S) \\cdot VX \\cr \n",
    "{d(VX) \\over dt} =& \\mu(S) \\cdot VX }\n",
    "$$\n",
    "\n",
    "and where specific cell growth rate $\\mu$ and substrate uptake rate $q_S$ are\n",
    "\n",
    "$$\n",
    "\\mu(S) = Y \\cdot q_S(S)\n",
    "$$\n",
    "\n",
    "$$\n",
    "q_S(S) = q_S^{max} {S \\over K_s + S}\n",
    "$$\n",
    "\n",
    "where $Y$ is the yield, $q_S^{max}$ is the maximal specific substrate uptake rate and $K_s$ is the corresponding saturation constant.\n",
    "\n",
    "The parameter estimation is done with optimization methods that only require evaluation of the missmatch between simulation with given parameters and data. At start the allowed range for each parameter is given. The method used for optimization is SLSQP but can easily be changed [1].\n",
    "\n",
    "In the near future the FMU may provide first derivative gradient informaion, that will make it possible to choose corresponding method of minimize() for improved performance. This possibility is related to the upgrade to the FMI-standard ver 3.0 for the Modelica compiler.  \n",
    "\n",
    "The Python package PyFMI [2] that is the base for FMU-explore has a simplified built-in\n",
    "functionality for parameter estimation that also use scipy.optimize.minimize(). However, there is estimated and the purpose seems to only address smaller examples. Therefore we here define a no possibility to include parameter changes to the compiled model that should not be\n",
    "Python function evaluation() that facilitate the formulation of the parameter estimation and\n",
    "bring flexibility to choice of optimization method."
   ]
  },
  {
   "cell_type": "code",
   "execution_count": 1,
   "id": "ca7ff969",
   "metadata": {},
   "outputs": [
    {
     "name": "stdout",
     "output_type": "stream",
     "text": [
      "Windows - run FMU pre-compiled JModelica 2.14\n",
      "\n",
      "Model for bioreactor has been setup. Key commands:\n",
      " - par()       - change of parameters and initial values\n",
      " - init()      - change initial values only\n",
      " - simu()      - simulate and plot\n",
      " - newplot()   - make a new plot\n",
      " - show()      - show plot from previous simulation\n",
      " - disp()      - display parameters and initial values from the last simulation\n",
      " - describe()  - describe culture, broth, parameters, variables with values / units\n",
      "\n",
      "Note that both disp() and describe() takes values from the last simulation\n",
      "\n",
      "Brief information about a command by help(), eg help(simu)\n",
      "Key system information is listed with the command system_info()\n"
     ]
    }
   ],
   "source": [
    "run -i BPL_TEST2_Batch_explore.py"
   ]
  },
  {
   "cell_type": "code",
   "execution_count": 2,
   "id": "446fec60",
   "metadata": {},
   "outputs": [],
   "source": [
    "# Adjust the size of diagrams\n",
    "plt.rcParams['figure.figsize'] = [15/2.54, 12/2.54]"
   ]
  },
  {
   "cell_type": "markdown",
   "id": "5a287557",
   "metadata": {},
   "source": [
    "## Generate data later used for parameter estimation"
   ]
  },
  {
   "cell_type": "code",
   "execution_count": 3,
   "id": "05f70f43",
   "metadata": {},
   "outputs": [],
   "source": [
    "import pandas as pd"
   ]
  },
  {
   "cell_type": "code",
   "execution_count": 4,
   "id": "a1ec2d2d",
   "metadata": {},
   "outputs": [
    {
     "data": {
      "image/png": "[encoded data removed]",
      "text/plain": [
       "<Figure size 590.551x472.441 with 2 Axes>"
      ]
     },
     "metadata": {},
     "output_type": "display_data"
    }
   ],
   "source": [
    "# Data generated\n",
    "culture_time = 6.0\n",
    "par(Y=0.50, qSmax=1.0, Ks=0.1)\n",
    "init(V_0=1.0, VS_0=10, VX_0=1.0)\n",
    "newplot(plotType='Demo_2')\n",
    "opts['ncp'] = 12\n",
    "simu(culture_time)"
   ]
  },
  {
   "cell_type": "code",
   "execution_count": 5,
   "id": "a4f98ba7",
   "metadata": {},
   "outputs": [
    {
     "data": {
      "text/html": [
       "<div>\n",
       "<style scoped>\n",
       "    .dataframe tbody tr th:only-of-type {\n",
       "        vertical-align: middle;\n",
       "    }\n",
       "\n",
       "    .dataframe tbody tr th {\n",
       "        vertical-align: top;\n",
       "    }\n",
       "\n",
       "    .dataframe thead th {\n",
       "        text-align: right;\n",
       "    }\n",
       "</style>\n",
       "<table border=\"1\" class=\"dataframe\">\n",
       "  <thead>\n",
       "    <tr style=\"text-align: right;\">\n",
       "      <th></th>\n",
       "      <th>time</th>\n",
       "      <th>X</th>\n",
       "      <th>S</th>\n",
       "    </tr>\n",
       "  </thead>\n",
       "  <tbody>\n",
       "    <tr>\n",
       "      <th>0</th>\n",
       "      <td>0.0</td>\n",
       "      <td>1.000000</td>\n",
       "      <td>1.000000e+01</td>\n",
       "    </tr>\n",
       "    <tr>\n",
       "      <th>1</th>\n",
       "      <td>0.5</td>\n",
       "      <td>1.280773</td>\n",
       "      <td>9.438453e+00</td>\n",
       "    </tr>\n",
       "    <tr>\n",
       "      <th>2</th>\n",
       "      <td>1.0</td>\n",
       "      <td>1.640079</td>\n",
       "      <td>8.719842e+00</td>\n",
       "    </tr>\n",
       "    <tr>\n",
       "      <th>3</th>\n",
       "      <td>1.5</td>\n",
       "      <td>2.099615</td>\n",
       "      <td>7.800770e+00</td>\n",
       "    </tr>\n",
       "    <tr>\n",
       "      <th>4</th>\n",
       "      <td>2.0</td>\n",
       "      <td>2.686770</td>\n",
       "      <td>6.626459e+00</td>\n",
       "    </tr>\n",
       "    <tr>\n",
       "      <th>5</th>\n",
       "      <td>2.5</td>\n",
       "      <td>3.435479</td>\n",
       "      <td>5.129043e+00</td>\n",
       "    </tr>\n",
       "    <tr>\n",
       "      <th>6</th>\n",
       "      <td>3.0</td>\n",
       "      <td>4.385325</td>\n",
       "      <td>3.229350e+00</td>\n",
       "    </tr>\n",
       "    <tr>\n",
       "      <th>7</th>\n",
       "      <td>3.5</td>\n",
       "      <td>5.559252</td>\n",
       "      <td>8.814967e-01</td>\n",
       "    </tr>\n",
       "    <tr>\n",
       "      <th>8</th>\n",
       "      <td>4.0</td>\n",
       "      <td>6.000000</td>\n",
       "      <td>1.048375e-08</td>\n",
       "    </tr>\n",
       "    <tr>\n",
       "      <th>9</th>\n",
       "      <td>4.5</td>\n",
       "      <td>6.000000</td>\n",
       "      <td>-1.936268e-10</td>\n",
       "    </tr>\n",
       "    <tr>\n",
       "      <th>10</th>\n",
       "      <td>5.0</td>\n",
       "      <td>6.000000</td>\n",
       "      <td>2.156125e-12</td>\n",
       "    </tr>\n",
       "    <tr>\n",
       "      <th>11</th>\n",
       "      <td>5.5</td>\n",
       "      <td>6.000000</td>\n",
       "      <td>9.975889e-14</td>\n",
       "    </tr>\n",
       "    <tr>\n",
       "      <th>12</th>\n",
       "      <td>6.0</td>\n",
       "      <td>6.000000</td>\n",
       "      <td>4.189854e-15</td>\n",
       "    </tr>\n",
       "  </tbody>\n",
       "</table>\n",
       "</div>"
      ],
      "text/plain": [
       "    time         X             S\n",
       "0    0.0  1.000000  1.000000e+01\n",
       "1    0.5  1.280773  9.438453e+00\n",
       "2    1.0  1.640079  8.719842e+00\n",
       "3    1.5  2.099615  7.800770e+00\n",
       "4    2.0  2.686770  6.626459e+00\n",
       "5    2.5  3.435479  5.129043e+00\n",
       "6    3.0  4.385325  3.229350e+00\n",
       "7    3.5  5.559252  8.814967e-01\n",
       "8    4.0  6.000000  1.048375e-08\n",
       "9    4.5  6.000000 -1.936268e-10\n",
       "10   5.0  6.000000  2.156125e-12\n",
       "11   5.5  6.000000  9.975889e-14\n",
       "12   6.0  6.000000  4.189854e-15"
      ]
     },
     "execution_count": 5,
     "metadata": {},
     "output_type": "execute_result"
    }
   ],
   "source": [
    "# Store data in a DataFrame for later use\n",
    "data = pd.DataFrame(data={'time':sim_res['time'], 'X':sim_res['bioreactor.c[1]'], 'S':sim_res['bioreactor.c[2]']})\n",
    "data"
   ]
  },
  {
   "cell_type": "code",
   "execution_count": 6,
   "id": "7a043a37",
   "metadata": {},
   "outputs": [],
   "source": [
    "data.to_excel('data_batch.xlsx')"
   ]
  },
  {
   "cell_type": "markdown",
   "id": "37855156",
   "metadata": {},
   "source": [
    "## Alternatively read data from your own excel-file"
   ]
  },
  {
   "cell_type": "markdown",
   "id": "41e67796",
   "metadata": {},
   "source": [
    "Alternatively we can choose to use data from an excel-file. - do you prefer that?"
   ]
  },
  {
   "cell_type": "code",
   "execution_count": 7,
   "id": "b4e7317b",
   "metadata": {},
   "outputs": [
    {
     "name": "stdout",
     "output_type": "stream",
     "text": [
      "You want to use your own data yes/no? no\n"
     ]
    }
   ],
   "source": [
    "x = input('You want to use your own data yes/no? ')"
   ]
  },
  {
   "cell_type": "code",
   "execution_count": 8,
   "id": "48a46d44",
   "metadata": {},
   "outputs": [
    {
     "data": {
      "text/plain": [
       "'no'"
      ]
     },
     "execution_count": 8,
     "metadata": {},
     "output_type": "execute_result"
    }
   ],
   "source": [
    "x"
   ]
  },
  {
   "cell_type": "code",
   "execution_count": 11,
   "id": "26b7e0ea",
   "metadata": {},
   "outputs": [],
   "source": [
    "if x in ['y', 'yes']:\n",
    "    xlsx_file = pd.ExcelFile('data_batch_1.xlsx')\n",
    "    table = xlsx_file.parse('Sheet1')\n",
    "    print(table)"
   ]
  },
  {
   "cell_type": "code",
   "execution_count": 12,
   "id": "b51a7212",
   "metadata": {},
   "outputs": [
    {
     "ename": "SyntaxError",
     "evalue": "unterminated string literal (detected at line 1) (2067712403.py, line 1)",
     "output_type": "error",
     "traceback": [
      "\u001b[1;36m  Cell \u001b[1;32mIn [12], line 1\u001b[1;36m\u001b[0m\n\u001b[1;33m    if x in ['y','yes]:\u001b[0m\n\u001b[1;37m                 ^\u001b[0m\n\u001b[1;31mSyntaxError\u001b[0m\u001b[1;31m:\u001b[0m unterminated string literal (detected at line 1)\n"
     ]
    }
   ],
   "source": [
    "if x in ['y','yes]:\n",
    "    data = table"
   ]
  },
  {
   "cell_type": "code",
   "execution_count": null,
   "id": "f7e7de5b",
   "metadata": {},
   "outputs": [],
   "source": [
    "# The initial values you may need to change to fit your data - use the function init()\n",
    "disp('_0')"
   ]
  },
  {
   "cell_type": "markdown",
   "id": "76f0039b",
   "metadata": {},
   "source": [
    "# Change initial conditions for batch_data_2\n",
    "init(V_0=1.0, VX_0=0.40, VS_0=20.5)\n",
    "culture_time = 8.0"
   ]
  },
  {
   "cell_type": "markdown",
   "id": "c997c06a",
   "metadata": {},
   "source": [
    "Remember to adjust the parBounds below appropriate for your data"
   ]
  },
  {
   "cell_type": "markdown",
   "id": "f957e138",
   "metadata": {},
   "source": [
    "## Simulation with initial guess of parameters compared with data\n",
    "\n",
    "Here we define the parameters that should be estimated and specify allowed ranges. \n",
    "Nominal parameters are chosen as the mid-point of the allowed parameter range. \n",
    "\n",
    "Simulation with these nominal parameter set and compare with data give an idea of who well the model fit data."
   ]
  },
  {
   "cell_type": "code",
   "execution_count": null,
   "id": "ad1c0afc",
   "metadata": {},
   "outputs": [],
   "source": [
    "# Parameters to be estimated using parDict names and their bounds\n",
    "parEstim = ['Y', 'qSmax', 'Ks']\n",
    "parBounds = [(0.3, 0.7), (0.7, 1.3), (0.05, 0.20)]\n",
    "parEstim_0 = [np.mean(parBounds[k]) for k in range(len(parBounds))]"
   ]
  },
  {
   "cell_type": "code",
   "execution_count": null,
   "id": "3817c1bf",
   "metadata": {},
   "outputs": [],
   "source": [
    "# Simulation with nominal parameters\n",
    "newplot(plotType='Demo_1')\n",
    "par(Y=parEstim_0[0], qSmax=parEstim_0[1], Ks=parEstim_0[2])\n",
    "simu(culture_time)\n",
    "\n",
    "# Show data\n",
    "ax1.plot(data['time'], data['S'],'b*')\n",
    "ax2.plot(data['time'], data['X'],'r*')\n",
    "plt.show()"
   ]
  },
  {
   "cell_type": "code",
   "execution_count": null,
   "id": "827c5ae7",
   "metadata": {},
   "outputs": [],
   "source": [
    "# Simulation over the parameter ranges given\n",
    "newplot(plotType='Demo_1')\n",
    "for Y_value in parBounds [0]:\n",
    "    for qSmax_value in parBounds[1]:\n",
    "        for Ks_value in parBounds[2]:\n",
    "            par(Y=Y_value, qSmax=qSmax_value, Ks=Ks_value)\n",
    "            simu(culture_time)\n",
    "            \n",
    "# Show data\n",
    "ax1.plot(data['time'], data['S'],'b*')\n",
    "ax2.plot(data['time'], data['X'],'r*')\n",
    "plt.show()"
   ]
  },
  {
   "cell_type": "markdown",
   "id": "bb3aeebb",
   "metadata": {},
   "source": [
    "Simulation over the diferent parameter combinations of the parameter bounds shows that data is \"covered\" and it should be possible to find a parameter combination that describes the data well. "
   ]
  },
  {
   "cell_type": "markdown",
   "id": "8c8b7d4b",
   "metadata": {},
   "source": [
    "## Parameter estimation\n",
    "\n",
    "Here we use the scipy.optimize.minimize() procedure which contain a family of different methods [1].\n",
    "Since we has chosen to work with bounds on the parameters to be estimated there are only three methods to choose between. Here the method Sequential Least SQuares Programming SLSQP is chosen.\n",
    "\n",
    "Note that we in the definition of evaluation() make use of PyFMI-functions to administrate the simulation parameters as well as running it, instead of using the simplified simu() function we are used to."
   ]
  },
  {
   "cell_type": "code",
   "execution_count": null,
   "id": "fa577c34",
   "metadata": {},
   "outputs": [],
   "source": [
    "# For clarity of code here we import again\n",
    "import scipy.optimize"
   ]
  },
  {
   "cell_type": "code",
   "execution_count": null,
   "id": "fdef7a06",
   "metadata": {},
   "outputs": [],
   "source": [
    "# Parameters to be estimated using parDict names and their bounds\n",
    "extra_args = (parEstim, data, fmu_model , parDict, parLocation)"
   ]
  },
  {
   "cell_type": "code",
   "execution_count": null,
   "id": "855d49c3",
   "metadata": {},
   "outputs": [],
   "source": [
    "# Modified evaluation function tailored for Python optimization algorithms\n",
    "def evaluation(x, parEstim, data=data, fmu_model=fmu_model, \n",
    "                parDict=parDict, parLocation=parLocation):\n",
    "    \"\"\"The parameter list is tailored for scipy optimization algorithms interface, \n",
    "       where the first parameter x is an array with parameters that are tuned \n",
    "       and evalauted.\"\"\"\n",
    "      \n",
    "    # Load model\n",
    "    global model\n",
    "    if model is None:\n",
    "        model = load_fmu(fmu_model)\n",
    "    model.reset()\n",
    "   \n",
    "    # Change parameters and initial values from default\n",
    "    for i, p in enumerate(parEstim): model.set(parLocation[p], x[i])\n",
    "    for p in set(parDict)-set(parEstim): model.set(parLocation[p], parDict[p])\n",
    "      \n",
    "    # Simulation options\n",
    "    opts = model.simulate_options()\n",
    "    opts['ncp'] = 12\n",
    "    opts['result_handling'] = 'memory'\n",
    "    opts['silent_mode'] = True\n",
    "   \n",
    "    # Simulate\n",
    "    sim_res = model.simulate(start_time=0.0, final_time=culture_time, options=opts)\n",
    "   \n",
    "    # Calculate loss function V\n",
    "    V={}\n",
    "    V['X'] = np.linalg.norm(data['X'] - np.interp(data['time'], sim_res['time'], sim_res['bioreactor.c[1]']))\n",
    "    V['S'] = np.linalg.norm(data['S'] - np.interp(data['time'], sim_res['time'], sim_res['bioreactor.c[2]']))\n",
    "  \n",
    "    return V['X'] + V['S']"
   ]
  },
  {
   "cell_type": "code",
   "execution_count": null,
   "id": "6f748ce2",
   "metadata": {},
   "outputs": [],
   "source": [
    "import time"
   ]
  },
  {
   "cell_type": "code",
   "execution_count": null,
   "id": "04b0da26",
   "metadata": {},
   "outputs": [],
   "source": [
    "# Run minimize()\n",
    "start_time = time.time()\n",
    "result = scipy.optimize.minimize(evaluation, x0=parEstim_0, args=extra_args, \n",
    "                                 method='SLSQP', bounds=parBounds, options={\"disp\":True})\n",
    "print('CPU-time =', time.time()-start_time)"
   ]
  },
  {
   "cell_type": "code",
   "execution_count": 14,
   "id": "af61a21d",
   "metadata": {},
   "outputs": [
    {
     "ename": "NameError",
     "evalue": "name 'result' is not defined",
     "output_type": "error",
     "traceback": [
      "\u001b[1;31m---------------------------------------------------------------------------\u001b[0m",
      "\u001b[1;31mNameError\u001b[0m                                 Traceback (most recent call last)",
      "Cell \u001b[1;32mIn [14], line 1\u001b[0m\n\u001b[1;32m----> 1\u001b[0m \u001b[43mresult\u001b[49m\u001b[38;5;241m.\u001b[39mx\n",
      "\u001b[1;31mNameError\u001b[0m: name 'result' is not defined"
     ]
    }
   ],
   "source": [
    "result.x"
   ]
  },
  {
   "cell_type": "markdown",
   "id": "d2197de7",
   "metadata": {},
   "source": [
    "The estimated parameters x are very close to the original values and no surprise.\n",
    "\n",
    "Test of the three methods available that handle parameter bounds: TNC, L-BFGS-B and SLSQP. It turns out that SLSQP is by far the fastest. It is 3 times faster than L-BFGS-B which is faster than TNC. Can be that SLSQP is less robust though. The nit (number of iterations does not differ that much though: 24 vs 30. The nfev (number of function evaluations) is perhaps more important 127 vs 256. A more precise timer function is likely timeit for this short times.\n",
    "\n",
    "The Nelder-Mead algorithm has a good reputation to be very robust, but more slow,  and with this method we cannot have bounds on the parameters."
   ]
  },
  {
   "cell_type": "markdown",
   "id": "48f83a63",
   "metadata": {},
   "source": [
    "## Simulation with estimated parameters compared with data"
   ]
  },
  {
   "cell_type": "code",
   "execution_count": null,
   "id": "97f0fac1",
   "metadata": {},
   "outputs": [],
   "source": [
    "newplot(plotType='Demo_1')\n",
    "par(Y=result.x[0], qSmax=result.x[1], Ks=result.x[2])\n",
    "simu(culture_time)\n",
    "\n",
    "# Show data\n",
    "ax1.plot(data['time'], data['S'],'b*')\n",
    "ax2.plot(data['time'], data['X'],'r*')\n",
    "plt.show()"
   ]
  },
  {
   "cell_type": "markdown",
   "id": "80101bc2",
   "metadata": {},
   "source": [
    "## Analysis of the loss function\n",
    "\n",
    "The problem is small and analysis of the loss function brings some insight. From the diagram above showing parameter sweep over combinations min- and max-parameters we see that the parameter $K_s$ has little influence. Let use set that a fixed value and then plot the loss function in the parameters $Y$ and $qSmax$.  We do this by go through all the parametera combinations and evaluate each of them."
   ]
  },
  {
   "cell_type": "code",
   "execution_count": null,
   "id": "c474308b",
   "metadata": {},
   "outputs": [],
   "source": [
    "# Sweep through Y and qSmax variation and store the value of the loss-function for each\n",
    "nY = 20\n",
    "nqSmax = 20\n",
    "V = np.zeros((nY, nqSmax))\n",
    "             \n",
    "Y = np.linspace(parBounds[0][0],parBounds[0][1],nY)\n",
    "qSmax = np.linspace(parBounds[1][0],parBounds[1][1],nqSmax)\n",
    "\n",
    "for j in range(nY):\n",
    "    for k in range(nqSmax):\n",
    "        V[j,k] = evaluation([Y[j], qSmax[k], 0.1], parEstim)\n",
    "\n",
    "# Contour plot\n",
    "plt.figure()\n",
    "plt.subplot(1,1,1)\n",
    "plt.contourf(Y, qSmax, V, 20, cmap='RdGy')\n",
    "plt.plot(result.x[0], result.x[1],'k+')\n",
    "plt.colorbar()\n",
    "plt.ylabel('qSmax')\n",
    "plt.xlabel('Y')\n",
    "plt.show()"
   ]
  },
  {
   "cell_type": "markdown",
   "id": "e7043857",
   "metadata": {},
   "source": [
    "We see the following in the contour diagram of the loss function simplified:\n",
    "* The minima is unique in the range of parmaters we study\n",
    "* The contour plot is ellipsoid and rather narrow\n",
    "* The direction of the ellipsoid axis show...\n"
   ]
  },
  {
   "cell_type": "markdown",
   "id": "3f759266",
   "metadata": {},
   "source": [
    "## Summary\n",
    "\n",
    "A choice was made to work with allowed ranges of parameters to be estimated and a start value was defined as the center point in this parameter space. There are only three methods available in optimize.minimize() that can handle bounds on parameters.\n",
    "\n",
    "An evaluation() function was created that define how the difference beween simulation and data is measured. The function is rather transparent and easy to modify and you may want to change weight on the loss in S and X, for instance. Here they have so far equal weight. \n",
    "\n",
    "The FMU-explore workspace dictionaries partDict[] and parLocation[] are useful also here and simplify the code for the evaluation() function. But we also use the detailed PyFMI-functions to administrate and set parameters of the actual simulation. \n",
    "\n",
    "The call optimize.minimize() has several parameters and can easily be modified, for instance change of method.\n",
    "\n",
    "The estimated parameters were close to perfect!\n",
    "\n",
    "The contour plot of the simplified loss function shows that the minima is unique and should\n",
    "not be difficult too difficut to obtain."
   ]
  },
  {
   "cell_type": "markdown",
   "id": "9fcc0dcf",
   "metadata": {},
   "source": [
    "## References\n",
    "\n",
    "[1] Scipy Reference guide on optimize.minimize()\n",
    "[here](https://docs.scipy.org/doc/scipy/reference/generated/scipy.optimize.minimize.html?highlight=minimize)\n",
    "\n",
    "[2] Andersson, C., Åkesson, J., Fuhrer C. : \"PyFMI: A Python package for simulation of coupled dynamic models with the functional mock-up interface\", Centre for Mathematical Sciences, Lund University, Report LUTFNA-5008, 2016. "
   ]
  },
  {
   "cell_type": "markdown",
   "id": "8a8381b7",
   "metadata": {},
   "source": [
    "## Appendix"
   ]
  },
  {
   "cell_type": "code",
   "execution_count": null,
   "id": "2496efdb",
   "metadata": {},
   "outputs": [],
   "source": [
    "describe('parts')"
   ]
  },
  {
   "cell_type": "code",
   "execution_count": null,
   "id": "d748fa00",
   "metadata": {},
   "outputs": [],
   "source": [
    "describe('MSL')"
   ]
  },
  {
   "cell_type": "code",
   "execution_count": null,
   "id": "1581ea63",
   "metadata": {},
   "outputs": [],
   "source": [
    "system_info()"
   ]
  },
  {
   "cell_type": "code",
   "execution_count": null,
   "id": "a9dcd2c2",
   "metadata": {},
   "outputs": [],
   "source": []
  }
 ],
 "metadata": {
  "kernelspec": {
   "display_name": "Python 3 (ipykernel)",
   "language": "python",
   "name": "python3"
  },
  "language_info": {
   "codemirror_mode": {
    "name": "ipython",
    "version": 3
   },
   "file_extension": ".py",
   "mimetype": "text/x-python",
   "name": "python",
   "nbconvert_exporter": "python",
   "pygments_lexer": "ipython3",
   "version": "3.10.6"
  }
 },
 "nbformat": 4,
 "nbformat_minor": 5
}
