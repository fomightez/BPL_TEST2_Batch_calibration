{
 "cells": [
  {
   "cell_type": "markdown",
   "id": "74db9584",
   "metadata": {},
   "source": [
    "# BPL_TEST2_Batch_calibration - demo\n",
    "\n",
    "This Jupyter notebook shows the possibilities for calibration of the model BPL_TEST2_Batch using scipy.optimize.minimize() routine.\n",
    "\n",
    "The text-book model of batch cultivation we simulate is the following where $S$ is substrate, $X$ is cell concentration, and $V$ is volume of the broth\n",
    "\n",
    "$$\n",
    "\\eqalign{\n",
    "{d(VS) \\over dt} =& -q_S(S) \\cdot VX \\cr \n",
    "{d(VX) \\over dt} =& \\mu(S) \\cdot VX }\n",
    "$$\n",
    "\n",
    "and where specific cell growth rate $\\mu$ and substrate uptake rate $q_S$ are\n",
    "\n",
    "$$\n",
    "\\mu(S) = Y \\cdot q_S(S)\n",
    "$$\n",
    "\n",
    "$$\n",
    "q_S(S) = q_S^{max} {S \\over K_s + S}\n",
    "$$\n",
    "\n"
   ]
  },
  {
   "cell_type": "code",
   "execution_count": 1,
   "id": "1a739bc6",
   "metadata": {},
   "outputs": [
    {
     "name": "stdout",
     "output_type": "stream",
     "text": [
      "Windows - run FMU pre-compiled JModelica 2.14\n",
      "\n",
      "Model for bioreactor has been setup. Key commands:\n",
      " - par()       - change of parameters and initial values\n",
      " - init()      - change initial values only\n",
      " - simu()      - simulate and plot\n",
      " - newplot()   - make a new plot\n",
      " - show()      - show plot from previous simulation\n",
      " - disp()      - display parameters and initial values from the last simulation\n",
      " - describe()  - describe culture, broth, parameters, variables with values / units\n",
      "\n",
      "Note that both disp() and describe() takes values from the last simulation\n",
      "\n",
      "Brief information about a command by help(), eg help(simu)\n",
      "Key system information is listed with the command system_info()\n"
     ]
    }
   ],
   "source": [
    "run -i BPL_TEST2_Batch_explore.py"
   ]
  },
  {
   "cell_type": "code",
   "execution_count": 2,
   "id": "58101170",
   "metadata": {},
   "outputs": [],
   "source": [
    "# Adjust the size of diagrams\n",
    "plt.rcParams['figure.figsize'] = [15/2.54, 12/2.54]"
   ]
  },
  {
   "cell_type": "markdown",
   "id": "b72f9f03",
   "metadata": {},
   "source": [
    "## A first simulation and store data in a dataframe"
   ]
  },
  {
   "cell_type": "code",
   "execution_count": 3,
   "id": "cf34f4dd",
   "metadata": {},
   "outputs": [],
   "source": [
    "import pandas as pd"
   ]
  },
  {
   "cell_type": "code",
   "execution_count": 4,
   "id": "9e7865f8",
   "metadata": {},
   "outputs": [
    {
     "data": {
      "image/png": "[encoded data removed]",
      "text/plain": [
       "<Figure size 425.197x340.157 with 2 Axes>"
      ]
     },
     "metadata": {
      "needs_background": "light"
     },
     "output_type": "display_data"
    }
   ],
   "source": [
    "par(Y=0.5, qSmax=1.0, Ks=0.1)\n",
    "init(V_0=1.0, VS_0=10, VX_0=1.0)\n",
    "newplot(plotType='Demo_1')\n",
    "opts['ncp'] = 12\n",
    "simu(6)"
   ]
  },
  {
   "cell_type": "code",
   "execution_count": 5,
   "id": "c18ebb15",
   "metadata": {},
   "outputs": [
    {
     "data": {
      "text/html": [
       "<div>\n",
       "<style scoped>\n",
       "    .dataframe tbody tr th:only-of-type {\n",
       "        vertical-align: middle;\n",
       "    }\n",
       "\n",
       "    .dataframe tbody tr th {\n",
       "        vertical-align: top;\n",
       "    }\n",
       "\n",
       "    .dataframe thead th {\n",
       "        text-align: right;\n",
       "    }\n",
       "</style>\n",
       "<table border=\"1\" class=\"dataframe\">\n",
       "  <thead>\n",
       "    <tr style=\"text-align: right;\">\n",
       "      <th></th>\n",
       "      <th>time</th>\n",
       "      <th>X</th>\n",
       "      <th>S</th>\n",
       "    </tr>\n",
       "  </thead>\n",
       "  <tbody>\n",
       "    <tr>\n",
       "      <th>0</th>\n",
       "      <td>0.0</td>\n",
       "      <td>1.000000</td>\n",
       "      <td>1.000000e+01</td>\n",
       "    </tr>\n",
       "    <tr>\n",
       "      <th>1</th>\n",
       "      <td>0.5</td>\n",
       "      <td>1.280773</td>\n",
       "      <td>9.438453e+00</td>\n",
       "    </tr>\n",
       "    <tr>\n",
       "      <th>2</th>\n",
       "      <td>1.0</td>\n",
       "      <td>1.640079</td>\n",
       "      <td>8.719842e+00</td>\n",
       "    </tr>\n",
       "    <tr>\n",
       "      <th>3</th>\n",
       "      <td>1.5</td>\n",
       "      <td>2.099615</td>\n",
       "      <td>7.800770e+00</td>\n",
       "    </tr>\n",
       "    <tr>\n",
       "      <th>4</th>\n",
       "      <td>2.0</td>\n",
       "      <td>2.686770</td>\n",
       "      <td>6.626459e+00</td>\n",
       "    </tr>\n",
       "    <tr>\n",
       "      <th>5</th>\n",
       "      <td>2.5</td>\n",
       "      <td>3.435479</td>\n",
       "      <td>5.129043e+00</td>\n",
       "    </tr>\n",
       "    <tr>\n",
       "      <th>6</th>\n",
       "      <td>3.0</td>\n",
       "      <td>4.385325</td>\n",
       "      <td>3.229350e+00</td>\n",
       "    </tr>\n",
       "    <tr>\n",
       "      <th>7</th>\n",
       "      <td>3.5</td>\n",
       "      <td>5.559252</td>\n",
       "      <td>8.814967e-01</td>\n",
       "    </tr>\n",
       "    <tr>\n",
       "      <th>8</th>\n",
       "      <td>4.0</td>\n",
       "      <td>6.000000</td>\n",
       "      <td>1.048375e-08</td>\n",
       "    </tr>\n",
       "    <tr>\n",
       "      <th>9</th>\n",
       "      <td>4.5</td>\n",
       "      <td>6.000000</td>\n",
       "      <td>-1.936268e-10</td>\n",
       "    </tr>\n",
       "    <tr>\n",
       "      <th>10</th>\n",
       "      <td>5.0</td>\n",
       "      <td>6.000000</td>\n",
       "      <td>2.156125e-12</td>\n",
       "    </tr>\n",
       "    <tr>\n",
       "      <th>11</th>\n",
       "      <td>5.5</td>\n",
       "      <td>6.000000</td>\n",
       "      <td>9.975889e-14</td>\n",
       "    </tr>\n",
       "    <tr>\n",
       "      <th>12</th>\n",
       "      <td>6.0</td>\n",
       "      <td>6.000000</td>\n",
       "      <td>4.189854e-15</td>\n",
       "    </tr>\n",
       "  </tbody>\n",
       "</table>\n",
       "</div>"
      ],
      "text/plain": [
       "    time         X             S\n",
       "0    0.0  1.000000  1.000000e+01\n",
       "1    0.5  1.280773  9.438453e+00\n",
       "2    1.0  1.640079  8.719842e+00\n",
       "3    1.5  2.099615  7.800770e+00\n",
       "4    2.0  2.686770  6.626459e+00\n",
       "5    2.5  3.435479  5.129043e+00\n",
       "6    3.0  4.385325  3.229350e+00\n",
       "7    3.5  5.559252  8.814967e-01\n",
       "8    4.0  6.000000  1.048375e-08\n",
       "9    4.5  6.000000 -1.936268e-10\n",
       "10   5.0  6.000000  2.156125e-12\n",
       "11   5.5  6.000000  9.975889e-14\n",
       "12   6.0  6.000000  4.189854e-15"
      ]
     },
     "execution_count": 5,
     "metadata": {},
     "output_type": "execute_result"
    }
   ],
   "source": [
    "# Store data in a DataFrame for later use\n",
    "data = pd.DataFrame(data={'time':sim_res['time'], 'X':sim_res['bioreactor.c[1]'], 'S':sim_res['bioreactor.c[2]']})\n",
    "data"
   ]
  },
  {
   "cell_type": "markdown",
   "id": "0fee7fd7",
   "metadata": {},
   "source": [
    "## Try minimize() for parameter estimation\n",
    "\n",
    "Here we try the same scipy-algorithm family that is actually used in pyfmi model.estimate()"
   ]
  },
  {
   "cell_type": "code",
   "execution_count": 6,
   "id": "cb411452",
   "metadata": {},
   "outputs": [],
   "source": [
    "# For clarity of code here we import again\n",
    "import scipy.optimize"
   ]
  },
  {
   "cell_type": "code",
   "execution_count": 7,
   "id": "078084f8",
   "metadata": {},
   "outputs": [],
   "source": [
    "# Parameters to be estimated using parDict names and their bounds\n",
    "parEstim = ['Y', 'qSmax', 'Ks']\n",
    "parEstim_0 = np.array([0.4, 1.2, 0.15])\n",
    "\n",
    "extra_args = (parEstim, data, 'BPL_TEST2_Batch_windows_jm_cs.fmu', parDict, parLocation)"
   ]
  },
  {
   "cell_type": "code",
   "execution_count": 8,
   "id": "0cef5138",
   "metadata": {},
   "outputs": [],
   "source": [
    "# Modified evaluation function tailored for Python optimization algorithms\n",
    "def evaluation(x, parEstim, data=data, fmu_model=fmu_model, \n",
    "                parDict=parDict, parLocation=parLocation):\n",
    "    \"\"\"The parameter list is tailored for scipy optimization algorithms interface, \n",
    "       where the first parameter x is an array with parameters that are tuned \n",
    "       and evalauted.\"\"\"\n",
    "      \n",
    "    # Load model\n",
    "    global model\n",
    "    if model is None:\n",
    "        model = load_fmu(fmu_model)\n",
    "    model.reset()\n",
    "   \n",
    "    # Change parameters and initial values from default\n",
    "    for i, p in enumerate(parEstim): model.set(parLocation[p], x[i])\n",
    "    for p in set(parDict)-set(parEstim): model.set(parLocation[p], parDict[p])\n",
    "      \n",
    "    # Simulation options\n",
    "    opts = model.simulate_options()\n",
    "    opts['ncp'] = 12\n",
    "    opts['result_handling'] = 'memory'\n",
    "    opts['silent_mode'] = True\n",
    "   \n",
    "    # Simulate\n",
    "    sim_res = model.simulate(start_time=0.0, final_time=6.0, options=opts)\n",
    "   \n",
    "    # Calculate loss \n",
    "    V={}\n",
    "    V['X'] = np.linalg.norm(data['X'] - np.interp(data['time'], sim_res['time'], sim_res['bioreactor.c[1]']))\n",
    "    V['S'] = np.linalg.norm(data['S'] - np.interp(data['time'], sim_res['time'], sim_res['bioreactor.c[2]']))\n",
    "  \n",
    "    return V['X'] + V['S']"
   ]
  },
  {
   "cell_type": "code",
   "execution_count": 9,
   "id": "fc7302c6",
   "metadata": {},
   "outputs": [
    {
     "name": "stdout",
     "output_type": "stream",
     "text": [
      "Optimization terminated successfully.\n",
      "         Current function value: 0.069422\n",
      "         Iterations: 42\n",
      "         Function evaluations: 83\n"
     ]
    }
   ],
   "source": [
    "# Run minimize()\n",
    "result = scipy.optimize.minimize(evaluation, x0=parEstim_0, args=extra_args, \n",
    "                                 method='Nelder-Mead', options={\"disp\":True})\n",
    "#                                 method='BFGS', options={\"disp\":True})"
   ]
  },
  {
   "cell_type": "code",
   "execution_count": 10,
   "id": "38f8b8ba",
   "metadata": {},
   "outputs": [
    {
     "data": {
      "text/plain": [
       " final_simplex: (array([[0.50010848, 1.01030323, 0.16246785],\n",
       "       [0.50010547, 1.01023377, 0.16248744],\n",
       "       [0.50007476, 1.01031636, 0.16249674],\n",
       "       [0.50015623, 1.01021132, 0.16250092]]), array([0.06942214, 0.06944698, 0.06946086, 0.06947121]))\n",
       "           fun: 0.06942213758121146\n",
       "       message: 'Optimization terminated successfully.'\n",
       "          nfev: 83\n",
       "           nit: 42\n",
       "        status: 0\n",
       "       success: True\n",
       "             x: array([0.50010848, 1.01030323, 0.16246785])"
      ]
     },
     "execution_count": 10,
     "metadata": {},
     "output_type": "execute_result"
    }
   ],
   "source": [
    "result"
   ]
  },
  {
   "cell_type": "markdown",
   "id": "7b193be8",
   "metadata": {},
   "source": [
    "The estimated parameters x are very close to the original, but why not a success?\n",
    "\n",
    "But if a use method 'Nelder-Mead' instead of the default 'BFGS' then I get success but needs doulbe amount of function evaluations."
   ]
  },
  {
   "cell_type": "markdown",
   "id": "6fa49759",
   "metadata": {},
   "source": [
    "## Concluding remarks\n",
    "\n",
    "* It is rather easy to make scipy function evaluations with flexibility to use compiled FMUs and provide parameters different fram default and that should not be tuned.\n",
    "\n",
    "* FMU-explore with workspace dictionaries parDict[] and parLocation[] etc are useful also in this scipy-optimization context. We see also that the broad optimization family scipy.minimization() used in pyfmi for model.estimate() does work. "
   ]
  },
  {
   "cell_type": "markdown",
   "id": "ddf9bc87",
   "metadata": {},
   "source": [
    "## Appendix"
   ]
  },
  {
   "cell_type": "code",
   "execution_count": 13,
   "id": "7d292e75",
   "metadata": {},
   "outputs": [
    {
     "name": "stdout",
     "output_type": "stream",
     "text": [
      "['bioreactor', 'bioreactor.culture', 'liquidphase', 'MSL']\n"
     ]
    }
   ],
   "source": [
    "describe('parts')"
   ]
  },
  {
   "cell_type": "code",
   "execution_count": 15,
   "id": "b0e18c53",
   "metadata": {},
   "outputs": [
    {
     "name": "stdout",
     "output_type": "stream",
     "text": [
      "MSL: 3.2.2 build 3 - used components:  \n"
     ]
    }
   ],
   "source": [
    "describe('MSL')"
   ]
  },
  {
   "cell_type": "code",
   "execution_count": 11,
   "id": "02fa6b5c",
   "metadata": {},
   "outputs": [
    {
     "name": "stdout",
     "output_type": "stream",
     "text": [
      "\n",
      "System information\n",
      " -OS: Windows\n",
      " -Python: 3.9.5\n",
      " -PyFMI: 2.9.5\n",
      " -FMU by: JModelica.org\n",
      " -FMI: 2.0\n",
      " -Type: FMUModelCS2\n",
      " -Name: BPL_TEST2.Batch\n",
      " -Generated: 2022-02-10T20:40:41\n",
      " -Description: Bioprocess Library version 2.0.9 - beta\n",
      " -Interaction: FMU-explore ver 0.8.9\n"
     ]
    }
   ],
   "source": [
    "system_info()"
   ]
  },
  {
   "cell_type": "code",
   "execution_count": 11,
   "id": "ab3f604e",
   "metadata": {},
   "outputs": [],
   "source": [
    "optse = model.estimate_options()"
   ]
  },
  {
   "cell_type": "code",
   "execution_count": 12,
   "id": "29e2195f",
   "metadata": {},
   "outputs": [
    {
     "data": {
      "text/plain": [
       "{'tolerance': 1e-06,\n",
       " 'result_file_name': '',\n",
       " 'filter': None,\n",
       " 'method': 'Nelder-Mead',\n",
       " 'scaling': 'Default',\n",
       " 'simulate_options': 'Default'}"
      ]
     },
     "execution_count": 12,
     "metadata": {},
     "output_type": "execute_result"
    }
   ],
   "source": [
    "optse"
   ]
  },
  {
   "cell_type": "code",
   "execution_count": null,
   "id": "00f3c378",
   "metadata": {},
   "outputs": [],
   "source": []
  }
 ],
 "metadata": {
  "kernelspec": {
   "display_name": "Python 3 (ipykernel)",
   "language": "python",
   "name": "python3"
  },
  "language_info": {
   "codemirror_mode": {
    "name": "ipython",
    "version": 3
   },
   "file_extension": ".py",
   "mimetype": "text/x-python",
   "name": "python",
   "nbconvert_exporter": "python",
   "pygments_lexer": "ipython3",
   "version": "3.9.5"
  }
 },
 "nbformat": 4,
 "nbformat_minor": 5
}
