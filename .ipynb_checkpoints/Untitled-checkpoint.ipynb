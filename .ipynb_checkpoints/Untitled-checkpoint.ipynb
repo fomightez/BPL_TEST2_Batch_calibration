{
 "cells": [
  {
   "cell_type": "code",
   "execution_count": null,
   "id": "60aab291",
   "metadata": {},
   "outputs": [],
   "source": [
    "import numpy as np"
   ]
  },
  {
   "cell_type": "code",
   "execution_count": null,
   "id": "61ec9fc3",
   "metadata": {},
   "outputs": [],
   "source": [
    "import matplotlib.pyplot as plt"
   ]
  },
  {
   "cell_type": "code",
   "execution_count": null,
   "id": "6b8dd6c9",
   "metadata": {},
   "outputs": [],
   "source": [
    "from pyfmi import load_fmu"
   ]
  },
  {
   "cell_type": "code",
   "execution_count": null,
   "id": "9b89af4c",
   "metadata": {},
   "outputs": [],
   "source": []
  }
 ],
 "metadata": {
  "kernelspec": {
   "display_name": "Python 3 (ipykernel)",
   "language": "python",
   "name": "python3"
  }
 },
 "nbformat": 4,
 "nbformat_minor": 5
}
